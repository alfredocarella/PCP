{
 "cells": [
  {
   "cell_type": "markdown",
   "metadata": {},
   "source": [
    "<div>\n",
    "<a href=\"https://www.audiolabs-erlangen.de/fau/professor/mueller\"><img src=\"data_layout/PCP_Teaser.png\" width=100% style=\"float: right;\" alt=\"PCP Teaser\"></a>\n",
    "</div>"
   ]
  },
  {
   "cell_type": "markdown",
   "metadata": {},
   "source": [
    "# Get Started\n",
    "\n",
    "\n",
    "This notebook gives a short introduction on how to start interacting with the PCP notebooks. \n",
    "<ul>\n",
    "    <li><a href='#github'>Downloading PCP Notebooks (Option 1): GitHub</a></li>\n",
    "    <li><a href='#archive'>Downloading PCP Notebooks (Option 2): AudioLabs Website</a></li>\n",
    "    <li><a href='#link'>HTML and IPYNB Links</a></li>\n",
    "    <li><a href='#package'>Package Management System</a></li>\n",
    "    <li><a href='#environment'>Python Environment Files</a></li>\n",
    "    <li><a href='#create'>Creating Conda Environment</a></li>\n",
    "    <li><a href='#jupyter'>Starting Jupyter Server</a></li>\n",
    "    <li><a href='#further'> Further Notes</a></li>\n",
    "</ul>      "
   ]
  },
  {
   "cell_type": "markdown",
   "metadata": {},
   "source": [
    "<a id='github'></a> \n",
    "## Downloading PCP Notebooks (Option 1): GitHub\n",
    "The latest version of the PCP notebooks is hosted on [GitHub](https://github.com/meinardmueller/PCP). You can download (\"clone\") the GitHub repository by calling\n",
    "<div class=\"alert alert-block alert-warning\">\n",
    "<code>git clone https://github.com/meinardmueller/PCP.git</code>.<br>\n",
    "</div>\n",
    "Note that the repository can also be run in interactive online Jupyter environments such as <a href=\"https://mybinder.org/v2/gh/meinardmueller/PCP/master\">Binder</a> without further installation steps. See the <code>Readme.md</code> of the repository for further information."
   ]
  },
  {
   "cell_type": "markdown",
   "metadata": {},
   "source": [
    "<a id='archive'></a>\n",
    "## Downloading PCP Notebooks (Option 2): AudioLabs Website\n",
    "\n",
    "Alternatively, you can download a zip-compressed archive containing the PCP notebooks and all data. You can find this archive at \n",
    "\n",
    "<div class=\"alert alert-block alert-warning\">\n",
    "     <a href=\"https://www.audiolabs-erlangen.de/resources/MIR/PCP/PCP_1.0.0.zip\">https://www.audiolabs-erlangen.de/resources/MIR/PCP/PCP_1.0.0.zip</a>\n",
    "</div>   \n",
    "\n",
    "Decompress the archive and store it on your local computer."
   ]
  },
  {
   "cell_type": "markdown",
   "metadata": {},
   "source": [
    "<a id='link'></a> \n",
    "## HTML and IPYNB Links\n",
    "\n",
    "\n",
    "If a static view of the PCP notebooks is enough for you, the exported HTML versions can be used right away without any installation. All material including the explanations, the figures, and the audio examples can be accessed by just following the **HTML links**. If you want to **execute** the Python code cells, you have to download the notebooks (along with the data), create an environment, and start a Jupyter server. You then need to follow the **IPYNB links** within the Jupyter session. In the following, we explain the following four steps in detail:\n",
    "\n",
    "<div class=\"alert alert-block alert-warning\">\n",
    "<ol>    \n",
    "<li> Downloading the PCP notebooks either from GitHub or the AudioLabs Website<br>\n",
    "</li>    \n",
    "<li> Installing Miniconda<br>\n",
    "   <a href=\"https://docs.conda.io/en/latest/miniconda.html\">https://docs.conda.io/en/latest/miniconda.html</a>\n",
    "</li>    \n",
    "<li> Creating a conda environment<br>\n",
    "  <code>conda env create -f environment.yml</code>\n",
    "</li>    \n",
    "<li> Starting the Jupyter server<br>\n",
    "  <code>conda activate PCP</code><br>\n",
    "  <code>jupyter notebook</code>\n",
    "</li>\n",
    "</ol>\n",
    "</div>         "
   ]
  },
  {
   "cell_type": "markdown",
   "metadata": {},
   "source": [
    "<a id='package'></a>\n",
    "## Package Management System\n",
    "\n",
    "[Conda](https://conda.io/docs/) is an open source package manager that helps finding and installing packages. It runs on Windows, macOS, and Linux. The Conda package and environment manager is included in **Anaconda** and its slim version **Miniconda**, which are free and open-source distributions of Python. Miniconda can make installing Python quick and easy even for new users. Download and install Miniconda for your platform from the following website:\n",
    "\n",
    "<div class=\"alert alert-block alert-warning\">\n",
    "     <a href=\"https://docs.conda.io/en/latest/miniconda.html\">https://docs.conda.io/en/latest/miniconda.html</a>\n",
    "</div> \n",
    "\n",
    "The following steps and commands may be useful to get started:\n",
    "\n",
    "* Instal Anaconda or [Miniconda](https://conda.io/miniconda.html) (slim version of Anaconda). \n",
    "* On Windows: Start with opening the terminal `Anaconda Prompt`. <br> \n",
    "  On Linux/MacOS: You can use a usual shell.\n",
    "* Verify that conda is installed: `conda --version`\n",
    "* Update conda (it is recommended to always keep conda updated to the latest version): `conda update conda` \n",
    "* Default environment is named `base`\n",
    "* Create a new environment and install a package in it. For example:    \n",
    "  `conda create --name PCP python=3 numpy scipy matplotlib jupyter`  \n",
    "  creates a Python environment including the packages `numpy`, `scipy`,  `matplotlib`,  and `jupyter`\n",
    "* List of all environments: `conda info --envs`\n",
    "* Activate environment: `conda activate PCP`\n",
    "* Python version in current environment: `python --version`\n",
    "* List packages contained in environment: `conda list`\n",
    "* Remove environment: `conda env remove --name PCP`"
   ]
  },
  {
   "cell_type": "markdown",
   "metadata": {},
   "source": [
    "<a id='environment'></a>\n",
    "## Python Environment Files\n",
    "\n",
    "To simplify the installation of Python and Jupyter, we recommend to create an environment from an `environment.yml` file, which exactly specifies the packages (along with specific versions). \n",
    "\n",
    "* We already provide such a file for the PCP notebooks. To create the environment named `PCP`, you need to call  \n",
    "  `conda env create -f environment.yml` \n",
    "\n",
    "* To update the environment, you can call  \n",
    "  `conda env update -f environment.yml`\n",
    "\n",
    "* Sometimes it may be easier to first remove the environment and than install it again:   \n",
    "  `conda env remove -n PCP`  \n",
    "  `conda env create -f environment.yml` \n",
    "\n",
    "\n",
    "* Once the environment has been installed, you need to activate it using:  \n",
    " `conda activate PCP` \n",
    "\n",
    "The current `PCP` environment can be listed as follows:"
   ]
  },
  {
   "cell_type": "code",
   "execution_count": 1,
   "metadata": {
    "execution": {
     "iopub.execute_input": "2021-09-23T10:11:46.317915Z",
     "iopub.status.busy": "2021-09-23T10:11:46.317002Z",
     "iopub.status.idle": "2021-09-23T10:11:46.322614Z",
     "shell.execute_reply": "2021-09-23T10:11:46.321906Z"
    }
   },
   "outputs": [
    {
     "name": "stdout",
     "output_type": "stream",
     "text": [
      "name: PCP\n",
      "\n",
      "channels:\n",
      "  - defaults\n",
      "  - conda-forge\n",
      "\n",
      "dependencies:\n",
      "  - python=3.7.*\n",
      "  - pip=19.2.*\n",
      "  - numpy=1.17.*\n",
      "  - matplotlib=3.1.*\n",
      "  - ipython=7.8.*\n",
      "  - jupyter=1.0.*\n",
      "  - jupyter_contrib_nbextensions=0.5.*\n",
      "  - pip:\n",
      "    - nbstripout==0.3.*\n",
      "\n"
     ]
    }
   ],
   "source": [
    "import os\n",
    "\n",
    "fn = os.path.join('environment.yml')\n",
    "with open(fn, 'r', encoding='utf-8') as stream:\n",
    "    env = stream.read()\n",
    "\n",
    "print(env)"
   ]
  },
  {
   "cell_type": "markdown",
   "metadata": {},
   "source": [
    "<a id='create'></a>\n",
    "## Creating Conda Environment\n",
    "\n",
    "We provide an environment file with all packages needed for interacting with the PCP notebooks. Open the Anaconda Prompt on Windows or your default shell on Linux/macOS. Then change to the directory that contains the file `environment.yml`. Create the environment with the following command: \n",
    "\n",
    "<div class=\"alert alert-block alert-warning\">\n",
    "    <tt>conda env create -f environment.yml</tt>\n",
    "</div> "
   ]
  },
  {
   "cell_type": "markdown",
   "metadata": {},
   "source": [
    "<a id='jupyter'></a>\n",
    "## Starting Jupyter Server\n",
    "\n",
    "After creating the PCP environment, you need to activate the environment using the following command:\n",
    "\n",
    "<div class=\"alert alert-block alert-warning\">\n",
    "    <tt>conda activate PCP</tt>\n",
    "</div> \n",
    "\n",
    "Finally, one needs to change to the directory containing the PCP notebooks and to start the Jupyter server by using the following command:\n",
    "\n",
    "<div class=\"alert alert-block alert-warning\">\n",
    "    <tt>jupyter notebook</tt>\n",
    "</div> \n",
    "\n",
    "This should open a browser, displaying the folder structure of the PCP notebooks. You then can open the overview notebook by selecting the file `PCP.ipynb`. You can also directly open any PCP notebook by selecting a file in any subdirectory with the file extension `.ipynb`. Within the Jupyter session, you need to follow the **IPYNB links** to keep the code cells executable. Furthermore note that, within the Jupyter session, you can only access files that are contained in the directory you used for launching the Jupyter server or in any **subdirectory**."
   ]
  },
  {
   "cell_type": "markdown",
   "metadata": {},
   "source": [
    "<a id='further'></a>\n",
    "\n",
    "## Further Notes\n",
    "\n",
    "Here is a list of useful commands, which may be helpful when updating and starting the environment. The command will be explained in more detail in subsequent notebooks. \n",
    "\n",
    "<div class=\"alert alert-block alert-warning\">\n",
    "\n",
    "<h4>Updating, removing, and creating Python environments:</h4>\n",
    "<tt>\n",
    "conda update conda <br>     \n",
    "conda env update -f environment.yml <br>\n",
    "conda env remove -n PCP <br> \n",
    "conda env create -f environment.yml <br>  \n",
    "</tt>\n",
    "    \n",
    "<h4>Install package to strip output from IPython notebooks:</h4>   \n",
    "<tt>\n",
    "conda activate  PCP <br>\n",
    "nbstripout --install <br>\n",
    "</tt>\n",
    "    \n",
    "<h4>Install spell checker:</h4>\n",
    "<tt>\n",
    "jupyter notebook <br> \n",
    "jupyter contrib nbextension install --user <br>\n",
    "jupyter nbextension enable spellchecker/main <br>\n",
    "</tt>\n",
    "    \n",
    "<h4>Configure notebook to disable cross-site-request-forgery protection:</h4>\n",
    "<tt>\n",
    "jupyter notebook --NotebookApp.disable_check_xsrf=True <br>  \n",
    "</tt>\n",
    "    \n",
    "</div> "
   ]
  },
  {
   "cell_type": "markdown",
   "metadata": {},
   "source": [
    "<div>\n",
    "<a href=\"https://opensource.org/licenses/MIT\"><img src=\"data_layout/PCP_License.png\" width=100% style=\"float: right;\" alt=\"PCP License\"></a>\n",
    "</div>"
   ]
  }
 ],
 "metadata": {
  "anaconda-cloud": {},
  "kernelspec": {
   "display_name": "Python 3",
   "language": "python",
   "name": "python3"
  },
  "language_info": {
   "codemirror_mode": {
    "name": "ipython",
    "version": 3
   },
   "file_extension": ".py",
   "mimetype": "text/x-python",
   "name": "python",
   "nbconvert_exporter": "python",
   "pygments_lexer": "ipython3",
   "version": "3.7.9"
  }
 },
 "nbformat": 4,
 "nbformat_minor": 1
}
